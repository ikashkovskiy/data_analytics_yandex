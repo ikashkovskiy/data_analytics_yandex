{
 "cells": [
  {
   "cell_type": "code",
   "execution_count": 1,
   "id": "54dbc45f",
   "metadata": {},
   "outputs": [],
   "source": [
    "# импортируем библиотеки\n",
    "import pandas as pd\n",
    "from sqlalchemy import create_engine\n",
    "# устанавливаем параметры\n",
    "db_config = {'user': 'praktikum_student', # имя пользователя\n",
    "'pwd': 'Sdf4$2;d-d30pp', # пароль\n",
    "'host': 'rc1b-wcoijxj3yxfsf3fs.mdb.yandexcloud.net',\n",
    "'port': 6432, # порт подключения\n",
    "'db': 'data-analyst-final-project-db'} # название базы данных\n",
    "connection_string = 'postgresql://{}:{}@{}:{}/{}'.format(db_config['user'],\n",
    " db_config['pwd'],\n",
    " db_config['host'],\n",
    " db_config['port'],\n",
    " db_config['db'])\n",
    "# сохраняем коннектор\n",
    "engine = create_engine(connection_string, connect_args={'sslmode':'require'}) "
   ]
  },
  {
   "cell_type": "markdown",
   "id": "a986b5af",
   "metadata": {},
   "source": [
    "- Цели исследования:\n",
    "    - проанализировать базу данных приложения для чтения книг\n",
    "    - найти количество новых книг\n",
    "    - найти самого популярного автора\n",
    "    - найти самое большое издательство\n",
    "    - узнать как пользователи оставляют оценки и обзоры\n"
   ]
  },
  {
   "cell_type": "code",
   "execution_count": 2,
   "id": "595058d0",
   "metadata": {},
   "outputs": [
    {
     "name": "stdout",
     "output_type": "stream",
     "text": [
      "819 книг вышло после 1 января 2000 года\n"
     ]
    }
   ],
   "source": [
    "# Посчитайте, сколько книг вышло после 1 января 2000 года;\n",
    "\n",
    "query = '''\n",
    "            SELECT count(*)\n",
    "            FROM books\n",
    "            WHERE publication_date > '2000-01-01'\n",
    "        '''\n",
    "books_test = pd.io.sql.read_sql(query, con = engine)\n",
    "print(books_test.loc[0][0],'книг вышло после 1 января 2000 года')"
   ]
  },
  {
   "cell_type": "markdown",
   "id": "8a99032b",
   "metadata": {},
   "source": [
    "Новых книг в базе данных приложения не так много"
   ]
  },
  {
   "cell_type": "code",
   "execution_count": 7,
   "id": "dfc83d4a",
   "metadata": {},
   "outputs": [
    {
     "data": {
      "text/html": [
       "<div>\n",
       "<style scoped>\n",
       "    .dataframe tbody tr th:only-of-type {\n",
       "        vertical-align: middle;\n",
       "    }\n",
       "\n",
       "    .dataframe tbody tr th {\n",
       "        vertical-align: top;\n",
       "    }\n",
       "\n",
       "    .dataframe thead th {\n",
       "        text-align: right;\n",
       "    }\n",
       "</style>\n",
       "<table border=\"1\" class=\"dataframe\">\n",
       "  <thead>\n",
       "    <tr style=\"text-align: right;\">\n",
       "      <th></th>\n",
       "      <th>book_id</th>\n",
       "      <th>title</th>\n",
       "      <th>cnt_reviews</th>\n",
       "      <th>avg_rating</th>\n",
       "    </tr>\n",
       "  </thead>\n",
       "  <tbody>\n",
       "    <tr>\n",
       "      <th>0</th>\n",
       "      <td>1</td>\n",
       "      <td>'Salem's Lot</td>\n",
       "      <td>2</td>\n",
       "      <td>3.666667</td>\n",
       "    </tr>\n",
       "    <tr>\n",
       "      <th>1</th>\n",
       "      <td>2</td>\n",
       "      <td>1 000 Places to See Before You Die</td>\n",
       "      <td>1</td>\n",
       "      <td>2.500000</td>\n",
       "    </tr>\n",
       "    <tr>\n",
       "      <th>2</th>\n",
       "      <td>3</td>\n",
       "      <td>13 Little Blue Envelopes (Little Blue Envelope...</td>\n",
       "      <td>3</td>\n",
       "      <td>4.666667</td>\n",
       "    </tr>\n",
       "    <tr>\n",
       "      <th>3</th>\n",
       "      <td>4</td>\n",
       "      <td>1491: New Revelations of the Americas Before C...</td>\n",
       "      <td>2</td>\n",
       "      <td>4.500000</td>\n",
       "    </tr>\n",
       "    <tr>\n",
       "      <th>4</th>\n",
       "      <td>5</td>\n",
       "      <td>1776</td>\n",
       "      <td>4</td>\n",
       "      <td>4.000000</td>\n",
       "    </tr>\n",
       "    <tr>\n",
       "      <th>...</th>\n",
       "      <td>...</td>\n",
       "      <td>...</td>\n",
       "      <td>...</td>\n",
       "      <td>...</td>\n",
       "    </tr>\n",
       "    <tr>\n",
       "      <th>995</th>\n",
       "      <td>996</td>\n",
       "      <td>Wyrd Sisters (Discworld  #6; Witches #2)</td>\n",
       "      <td>3</td>\n",
       "      <td>3.666667</td>\n",
       "    </tr>\n",
       "    <tr>\n",
       "      <th>996</th>\n",
       "      <td>997</td>\n",
       "      <td>Xenocide (Ender's Saga  #3)</td>\n",
       "      <td>3</td>\n",
       "      <td>3.400000</td>\n",
       "    </tr>\n",
       "    <tr>\n",
       "      <th>997</th>\n",
       "      <td>998</td>\n",
       "      <td>Year of Wonders</td>\n",
       "      <td>4</td>\n",
       "      <td>3.200000</td>\n",
       "    </tr>\n",
       "    <tr>\n",
       "      <th>998</th>\n",
       "      <td>999</td>\n",
       "      <td>You Suck (A Love Story  #2)</td>\n",
       "      <td>2</td>\n",
       "      <td>4.500000</td>\n",
       "    </tr>\n",
       "    <tr>\n",
       "      <th>999</th>\n",
       "      <td>1000</td>\n",
       "      <td>Zen and the Art of Motorcycle Maintenance: An ...</td>\n",
       "      <td>4</td>\n",
       "      <td>3.833333</td>\n",
       "    </tr>\n",
       "  </tbody>\n",
       "</table>\n",
       "<p>1000 rows × 4 columns</p>\n",
       "</div>"
      ],
      "text/plain": [
       "     book_id                                              title  cnt_reviews  \\\n",
       "0          1                                       'Salem's Lot            2   \n",
       "1          2                 1 000 Places to See Before You Die            1   \n",
       "2          3  13 Little Blue Envelopes (Little Blue Envelope...            3   \n",
       "3          4  1491: New Revelations of the Americas Before C...            2   \n",
       "4          5                                               1776            4   \n",
       "..       ...                                                ...          ...   \n",
       "995      996           Wyrd Sisters (Discworld  #6; Witches #2)            3   \n",
       "996      997                        Xenocide (Ender's Saga  #3)            3   \n",
       "997      998                                    Year of Wonders            4   \n",
       "998      999                        You Suck (A Love Story  #2)            2   \n",
       "999     1000  Zen and the Art of Motorcycle Maintenance: An ...            4   \n",
       "\n",
       "     avg_rating  \n",
       "0      3.666667  \n",
       "1      2.500000  \n",
       "2      4.666667  \n",
       "3      4.500000  \n",
       "4      4.000000  \n",
       "..          ...  \n",
       "995    3.666667  \n",
       "996    3.400000  \n",
       "997    3.200000  \n",
       "998    4.500000  \n",
       "999    3.833333  \n",
       "\n",
       "[1000 rows x 4 columns]"
      ]
     },
     "execution_count": 7,
     "metadata": {},
     "output_type": "execute_result"
    }
   ],
   "source": [
    "# Для каждой книги посчитайте количество обзоров и среднюю оценку;\n",
    "\n",
    "query = '''\n",
    "            SELECT \n",
    "            books.book_id AS book_id,\n",
    "            books.title AS title,\n",
    "            COUNT( DISTINCT reviews.review_id) AS cnt_reviews,\n",
    "            AVG(ratings.rating) AS avg_rating\n",
    "            FROM \n",
    "            books\n",
    "            FULL OUTER JOIN ratings ON ratings.book_id = books.book_id\n",
    "            FULL OUTER JOIN reviews ON books.book_id = reviews.book_id\n",
    "            GROUP BY\n",
    "            books.book_id\n",
    "            \n",
    "            \n",
    "        '''\n",
    "books_test = pd.io.sql.read_sql(query, con = engine)\n",
    "books_test"
   ]
  },
  {
   "cell_type": "code",
   "execution_count": 4,
   "id": "84d93004",
   "metadata": {},
   "outputs": [
    {
     "name": "stdout",
     "output_type": "stream",
     "text": [
      "издательство, которое выпустило наибольшее число книг толще 50 страниц — Penguin Books\n"
     ]
    }
   ],
   "source": [
    "# Определите издательство, которое выпустило наибольшее число книг толще 50 страниц — \n",
    "# так вы исключите из анализа брошюры;\n",
    "\n",
    "query = '''\n",
    "            SELECT \n",
    "            publishers.publisher,\n",
    "            COUNT(books.book_id) AS cnt_books\n",
    "            FROM \n",
    "            books\n",
    "            INNER JOIN publishers ON publishers.publisher_id = books.publisher_id\n",
    "            GROUP BY\n",
    "            publishers.publisher\n",
    "            ORDER BY \n",
    "            cnt_books DESC\n",
    "            LIMIT 1\n",
    "        '''\n",
    "books_test = pd.io.sql.read_sql(query, con = engine)\n",
    "print('издательство, которое выпустило наибольшее число книг толще 50 страниц —',books_test.loc[0][0])\n"
   ]
  },
  {
   "cell_type": "code",
   "execution_count": 5,
   "id": "78e99bd3",
   "metadata": {},
   "outputs": [
    {
     "name": "stdout",
     "output_type": "stream",
     "text": [
      "автор с самой высокой средней оценкой книг — J.K. Rowling/Mary GrandPré\n"
     ]
    }
   ],
   "source": [
    "# Определите автора с самой высокой средней оценкой книг — \n",
    "# учитывайте только книги с 50 и более оценками;\n",
    "\n",
    "query = '''\n",
    "            SELECT\n",
    "            authors.author,\n",
    "            AVG(avg_book_ratings.avg_book_rating) as avg_author_rating\n",
    "            FROM \n",
    "            books\n",
    "            INNER JOIN authors ON authors.author_id = books.author_id\n",
    "            INNER JOIN (\n",
    "            SELECT\n",
    "            book_id,\n",
    "            AVG(rating) as avg_book_rating\n",
    "            FROM \n",
    "            ratings\n",
    "            GROUP BY\n",
    "            book_id\n",
    "            HAVING count(*) >= 50\n",
    "            ) AS avg_book_ratings ON avg_book_ratings.book_id = books.book_id\n",
    "            GROUP BY \n",
    "            authors.author\n",
    "            ORDER BY \n",
    "            avg_author_rating DESC\n",
    "            LIMIT 1\n",
    "        '''\n",
    "books_test = pd.io.sql.read_sql(query, con = engine)\n",
    "print('автор с самой высокой средней оценкой книг —',books_test.loc[0][0])\n"
   ]
  },
  {
   "cell_type": "code",
   "execution_count": 6,
   "id": "74cdd0f3",
   "metadata": {},
   "outputs": [
    {
     "name": "stdout",
     "output_type": "stream",
     "text": [
      "среднее количество обзоров от пользователей, которые поставили больше 50 оценок. — 24.0\n"
     ]
    }
   ],
   "source": [
    "# Посчитайте среднее количество обзоров от пользователей, \n",
    "# которые поставили больше 50 оценок.\n",
    "\n",
    "query = '''\n",
    "            SELECT \n",
    "            ROUND(AVG(count)) \n",
    "            FROM\n",
    "            (SELECT\n",
    "            COUNT(text)\n",
    "            FROM \n",
    "            reviews\n",
    "            FULL OUTER JOIN (\n",
    "            SELECT username,\n",
    "            COUNT(rating_id) as cnt_ratings\n",
    "            FROM \n",
    "            ratings\n",
    "            GROUP BY\n",
    "            username\n",
    "            ) AS cnt_rating ON cnt_rating.username = reviews.username\n",
    "            WHERE cnt_ratings > 50\n",
    "            GROUP BY \n",
    "            reviews.username) as count;   \n",
    "            \n",
    "        '''\n",
    "books_test = pd.io.sql.read_sql(query, con = engine)\n",
    "\n",
    "print('среднее количество обзоров от пользователей, которые поставили больше 50 оценок. —',books_test.loc[0][0])\n"
   ]
  },
  {
   "cell_type": "markdown",
   "id": "1044169f",
   "metadata": {},
   "source": [
    "##### Вывод\n",
    "- посчитано количество книг выпушенных после 1 января 2000 года\n",
    "- создана таблица с расчетом количества обзоров и средней оценки книг\n",
    "- найдено издательство опубликовавшее большее количество книг более 50 страниц - Penguin Books\n",
    "- найден автор с самой высокой средней оценкой книг — J.K. Rowling/Mary GrandPré\n",
    "- посчитано среднее количество обзоров пользователей, оставивших более 50 оценок книгам"
   ]
  }
 ],
 "metadata": {
  "kernelspec": {
   "display_name": "Python 3 (ipykernel)",
   "language": "python",
   "name": "python3"
  },
  "language_info": {
   "codemirror_mode": {
    "name": "ipython",
    "version": 3
   },
   "file_extension": ".py",
   "mimetype": "text/x-python",
   "name": "python",
   "nbconvert_exporter": "python",
   "pygments_lexer": "ipython3",
   "version": "3.9.7"
  }
 },
 "nbformat": 4,
 "nbformat_minor": 5
}
